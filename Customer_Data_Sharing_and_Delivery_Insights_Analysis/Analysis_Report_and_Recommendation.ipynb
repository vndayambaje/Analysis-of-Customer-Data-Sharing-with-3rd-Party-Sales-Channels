{
 "cells": [
  {
   "cell_type": "markdown",
   "id": "3f465500",
   "metadata": {},
   "source": [
    "# Project 2, Part 7, Analysis on continuing to withhold customer data from 3rd parties\n",
    "\n",
    "University of California, Berkeley\n",
    "\n",
    "Master of Information and Data Science (MIDS) program\n",
    "\n",
    "w205 - Fundamentals of Data Engineering\n"
   ]
  },
  {
   "cell_type": "markdown",
   "id": "1cf92eab",
   "metadata": {},
   "source": [
    "# 2.7 Analysis on continuing to withhold customer data from 3rd parties\n",
    "\n",
    "As stated in the scenario, like most companies, AGM does not want to give out its customer list to 3rd party sales channels.  The downside is, as we have seen, that customer first names, last names, and street addresses will have some variations and not be exact matches.\n",
    "\n",
    "The data science team would like your analysis of both options:\n",
    "\n",
    "1)  Continue to withhold the customer data from 3rd party sales channels\n",
    "\n",
    "2)  Give customer data to 3rd party sales channels\n",
    "\n",
    "The data science team would also like your recommendation on which option you think is best.  \n",
    "\n",
    "In the markdown cell, you must provide:\n",
    "* A meaningful title\n",
    "* Write a brief paragraph for option 1.\n",
    "* Write a brief paragraph for option 2.\n",
    "* Write a brief paragraph with your recommendation, which must be either option 1 or option 2, you cannot recommend something else.\n",
    "\n",
    "Put the title and all 3 paragraphs in a single markdown cell.\n",
    "\n",
    "You are not required to write any queries nor any code nor create any data visualizations.  Simply provide English text.\n"
   ]
  },
  {
   "cell_type": "markdown",
   "id": "c8086a63",
   "metadata": {},
   "source": [
    "# Analysis of Customer Data Sharing with 3rd Party Sales Channels\n",
    "\n",
    "### Option 1: Continue to Withhold Customer Data from 3rd Party Sales Channels\n",
    "If AGM keeps holding back customer data from Peak Deliveries, it helps protect the privacy of AGM customers and it also keeps AGM in control of that data. This minimizes the risk of the data being misused by third parties or leaked. However, the trade-off of AGM not sharing their customers details currently is that they’ve seen issues with data mismatches, which is about 13.4% of the customer records that don’t exactly match up due to small variations in names or addresses. This could cause some headaches with deliveries or customer records, but since it's a small percentage, AGM can manage these problems by continuing to validate and clean up the data internally.\n",
    "\n",
    "### Option 2: Provide Customer Data to 3rd Party Sales Channels\n",
    "On the other hand, if AGM gives customer data to Peak Deliveries, it would solve the problem of mismatches. Peak Deliveries would have access to all the correct customer information, which could lead to smoother deliveries and fewer data mismatch issues. However, this comes with some serious risks. By giving away customer data, AGM loses control over how that information is used, and it could lead to issues like data breaches or Peak Deliveries could even use the data for their own benefit. It’s also a strategic decision because by providing Peak Deliveries the data, AGM will lose an important part of their relationship with the customers.\n",
    "\n",
    "### Recommendation: Continue to Withhold Customer Data from 3rd Party Sales Channels\n",
    "I think the best option is for AGM to keep withholding customer data from Peak Deliveries. Even though AGM got some data mismatches to validate and clean, it is a small percentage that can be handled internally. The risks of AGM sharing their customer data, like losing control over how it’s used or potentially exposing it to misuse, are too high. Keeping their customer list private helps protect AGM’s future and keeps AGM in control of their most valuable asset which is their customers.\n"
   ]
  },
  {
   "cell_type": "code",
   "execution_count": null,
   "id": "b8c59d2b",
   "metadata": {},
   "outputs": [],
   "source": []
  }
 ],
 "metadata": {
  "kernelspec": {
   "display_name": "Python 3 (ipykernel)",
   "language": "python",
   "name": "python3"
  },
  "language_info": {
   "codemirror_mode": {
    "name": "ipython",
    "version": 3
   },
   "file_extension": ".py",
   "mimetype": "text/x-python",
   "name": "python",
   "nbconvert_exporter": "python",
   "pygments_lexer": "ipython3",
   "version": "3.9.7"
  }
 },
 "nbformat": 4,
 "nbformat_minor": 5
}
